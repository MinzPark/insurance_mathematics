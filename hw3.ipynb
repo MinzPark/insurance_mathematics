{
  "nbformat": 4,
  "nbformat_minor": 0,
  "metadata": {
    "colab": {
      "provenance": [],
      "collapsed_sections": [
        "Z61m5D_32yOT",
        "dCcY4Bfa6wxl",
        "wNkLpAs55v4j"
      ]
    },
    "kernelspec": {
      "name": "python3",
      "display_name": "Python 3"
    },
    "language_info": {
      "name": "python"
    }
  },
  "cells": [
    {
      "cell_type": "code",
      "execution_count": 1,
      "metadata": {
        "id": "-J33lBI-110S"
      },
      "outputs": [],
      "source": [
        "from numpy import genfromtxt\n",
        "import numpy as np\n",
        "import torch\n",
        "\n",
        "import matplotlib.pyplot as plt\n",
        "import sklearn.datasets\n",
        "from torch.utils.data import Dataset, DataLoader, TensorDataset\n",
        "\n",
        "import math\n",
        "\n",
        "from tqdm import tqdm"
      ]
    },
    {
      "cell_type": "markdown",
      "source": [
        "# Logistic Regression"
      ],
      "metadata": {
        "id": "BHokeiQL5ZBZ"
      }
    },
    {
      "cell_type": "code",
      "source": [
        "my_data = genfromtxt('/content/wbca.csv', delimiter = ',', skip_header = 1)"
      ],
      "metadata": {
        "id": "60My2nRc146j"
      },
      "execution_count": 2,
      "outputs": []
    },
    {
      "cell_type": "code",
      "source": [
        "my_data"
      ],
      "metadata": {
        "colab": {
          "base_uri": "https://localhost:8080/"
        },
        "id": "pd9MiW-r2JP6",
        "outputId": "65020a17-23e2-43c1-85b0-a9956f791260"
      },
      "execution_count": 3,
      "outputs": [
        {
          "output_type": "execute_result",
          "data": {
            "text/plain": [
              "array([[ 1.,  1.,  1., ...,  5.,  1.,  1.],\n",
              "       [ 1.,  5., 10., ...,  5.,  4.,  4.],\n",
              "       [ 1.,  1.,  2., ...,  3.,  1.,  1.],\n",
              "       ...,\n",
              "       [ 0.,  3.,  3., ...,  5., 10., 10.],\n",
              "       [ 0.,  4.,  4., ...,  4.,  6.,  8.],\n",
              "       [ 0.,  5.,  5., ...,  4.,  8.,  8.]])"
            ]
          },
          "metadata": {},
          "execution_count": 3
        }
      ]
    },
    {
      "cell_type": "code",
      "source": [
        "Y = my_data[:,0]\n",
        "X = my_data[:,1:]\n",
        "\n",
        "X.mean(axis = 0) #[9,]"
      ],
      "metadata": {
        "colab": {
          "base_uri": "https://localhost:8080/"
        },
        "id": "syzObIZe2YJ-",
        "outputId": "a980a15c-ad87-4e7f-b751-32ead0cc5617"
      },
      "execution_count": 4,
      "outputs": [
        {
          "output_type": "execute_result",
          "data": {
            "text/plain": [
              "array([2.8164464 , 3.54185022, 3.43318649, 3.23054332, 1.60352423,\n",
              "       2.85903084, 4.43612335, 3.2041116 , 3.13950073])"
            ]
          },
          "metadata": {},
          "execution_count": 4
        }
      ]
    },
    {
      "cell_type": "code",
      "source": [
        "std_X = (X-X.mean(axis = 0))/ X.std(axis = 0)"
      ],
      "metadata": {
        "id": "zB8hq1Fv33MI"
      },
      "execution_count": 5,
      "outputs": []
    },
    {
      "cell_type": "code",
      "source": [
        "n = X.shape[0]\n",
        "n"
      ],
      "metadata": {
        "colab": {
          "base_uri": "https://localhost:8080/"
        },
        "id": "5vuQL5Ck4DHM",
        "outputId": "6f3c9bea-5091-4706-d4ba-ef968094ef47"
      },
      "execution_count": 6,
      "outputs": [
        {
          "output_type": "execute_result",
          "data": {
            "text/plain": [
              "681"
            ]
          },
          "metadata": {},
          "execution_count": 6
        }
      ]
    },
    {
      "cell_type": "code",
      "source": [
        "std_X = torch.tensor(std_X,dtype = torch.float32) # [n,9]: dtype = float32\n",
        "Y = torch.tensor(Y, dtype = torch.float32).reshape([-1,1]) # [n,] -> [n,1]: dtype = float32\n"
      ],
      "metadata": {
        "id": "S5vfo7OV4E5b"
      },
      "execution_count": 7,
      "outputs": []
    },
    {
      "cell_type": "code",
      "source": [
        "X_mod1 = torch.stack((std_X[:,1],std_X[:,6]), dim = 1) # index of BNul = 1, index of Thick = 6 in X\n",
        "\n",
        "print(X_mod1[:5,:])\n",
        "print(std_X[:5,:])"
      ],
      "metadata": {
        "colab": {
          "base_uri": "https://localhost:8080/"
        },
        "id": "HdgY0Li81fGA",
        "outputId": "7edabedd-71ef-4bf2-9320-33c0822d1906"
      },
      "execution_count": 8,
      "outputs": [
        {
          "output_type": "stream",
          "name": "stdout",
          "text": [
            "tensor([[-0.6976,  0.2000],\n",
            "        [ 1.7724,  0.2000],\n",
            "        [-0.4232, -0.5094],\n",
            "        [ 0.1257,  0.5547],\n",
            "        [-0.6976, -0.1547]])\n",
            "tensor([[-0.6369, -0.6976, -0.1774, -0.5534, -0.3481, -0.6100,  0.2000, -0.7398,\n",
            "         -0.7001],\n",
            "        [ 0.7656,  1.7724, -0.1774,  1.6953, -0.3481, -0.2819,  0.2000,  0.2671,\n",
            "          0.2816],\n",
            "        [-0.6369, -0.4232, -0.1774, -0.5534, -0.3481, -0.6100, -0.5094, -0.7398,\n",
            "         -0.7001],\n",
            "        [-0.6369,  0.1257, -0.1774, -0.1037, -0.3481,  1.3588,  0.5547,  1.6097,\n",
            "          1.5905],\n",
            "        [ 0.0644, -0.6976, -0.1774, -0.5534, -0.3481, -0.6100, -0.1547, -0.7398,\n",
            "         -0.7001]])\n"
          ]
        }
      ]
    },
    {
      "cell_type": "code",
      "source": [
        "dataset1 = TensorDataset(X_mod1,Y)\n",
        "trainloader1 = DataLoader(dataset=dataset1, batch_size=32, shuffle=True)\n",
        "\n",
        "dataset2 = TensorDataset(std_X,Y)\n",
        "trainloader2 = DataLoader(dataset=dataset2, batch_size=32, shuffle=True)"
      ],
      "metadata": {
        "id": "gREDLxXr46FJ"
      },
      "execution_count": 10,
      "outputs": []
    },
    {
      "cell_type": "code",
      "source": [
        "model1 = torch.nn.Linear(2,1, bias=True)\n",
        "model2 = torch.nn.Linear(9,1, bias=True)\n",
        "\n",
        "\n",
        "def neg_log_lik(phat,y):\n",
        "    out = -1 * torch.mean(y * torch.log(phat) + (1 - y) * torch.log(1 - phat))\n",
        "    return out\n",
        "\n",
        "my_optimizer1 = torch.optim.SGD(model1.parameters(), lr = 0.1)\n",
        "my_optimizer2 = torch.optim.SGD(model2.parameters(), lr = 0.1)"
      ],
      "metadata": {
        "id": "IefXnOhq46fn"
      },
      "execution_count": 11,
      "outputs": []
    },
    {
      "cell_type": "markdown",
      "source": [
        "## training of Mod1"
      ],
      "metadata": {
        "id": "HVn49Q4L21w_"
      }
    },
    {
      "cell_type": "code",
      "source": [
        "epochs=100\n",
        "history1=[]\n",
        "\n",
        "\n",
        "for epoch in range(epochs):\n",
        "  LOSS_sum = 0\n",
        "  for xx, yy in trainloader1:\n",
        "    z = model1(xx)\n",
        "    phat = torch.sigmoid(z)\n",
        "    loss = neg_log_lik(phat, yy)\n",
        "    LOSS_sum = LOSS_sum + loss * len(yy)\n",
        "    my_optimizer1.zero_grad()\n",
        "    loss.backward()\n",
        "    my_optimizer1.step()\n",
        "\n",
        "  history1.append(LOSS_sum.item()/n)\n"
      ],
      "metadata": {
        "id": "TpFrvyth4-qR"
      },
      "execution_count": 12,
      "outputs": []
    },
    {
      "cell_type": "code",
      "source": [
        "plt.plot(history1)"
      ],
      "metadata": {
        "colab": {
          "base_uri": "https://localhost:8080/",
          "height": 449
        },
        "id": "ykSnGReo3EXW",
        "outputId": "539907d8-608f-43f0-b28d-f20e97b5b645"
      },
      "execution_count": 13,
      "outputs": [
        {
          "output_type": "execute_result",
          "data": {
            "text/plain": [
              "[<matplotlib.lines.Line2D at 0x7817a2fa7eb0>]"
            ]
          },
          "metadata": {},
          "execution_count": 13
        },
        {
          "output_type": "display_data",
          "data": {
            "text/plain": [
              "<Figure size 640x480 with 1 Axes>"
            ],
            "image/png": "[encoded data removed]"
          },
          "metadata": {}
        }
      ]
    },
    {
      "cell_type": "markdown",
      "source": [
        "## training of Mod2"
      ],
      "metadata": {
        "id": "Z61m5D_32yOT"
      }
    },
    {
      "cell_type": "code",
      "source": [
        "epochs=100\n",
        "history2=[]\n",
        "\n",
        "\n",
        "for epoch in range(epochs):\n",
        "  LOSS_sum = 0\n",
        "  for xx, yy in trainloader2:\n",
        "    z = model2(xx)\n",
        "    phat = torch.sigmoid(z)\n",
        "    loss = neg_log_lik(phat, yy)\n",
        "    LOSS_sum = LOSS_sum + loss * len(yy)\n",
        "    my_optimizer2.zero_grad()\n",
        "    loss.backward()\n",
        "    my_optimizer2.step()\n",
        "  history2.append(LOSS_sum.item()/n)\n"
      ],
      "metadata": {
        "id": "xvxFdsFT2xrU"
      },
      "execution_count": 14,
      "outputs": []
    },
    {
      "cell_type": "code",
      "source": [
        "plt.plot(history2)"
      ],
      "metadata": {
        "colab": {
          "base_uri": "https://localhost:8080/",
          "height": 449
        },
        "id": "MizR3BIF5Obx",
        "outputId": "e440ecb2-9571-4a56-dda4-aadfd7b5f3cf"
      },
      "execution_count": 15,
      "outputs": [
        {
          "output_type": "execute_result",
          "data": {
            "text/plain": [
              "[<matplotlib.lines.Line2D at 0x7817a0f0ddb0>]"
            ]
          },
          "metadata": {},
          "execution_count": 15
        },
        {
          "output_type": "display_data",
          "data": {
            "text/plain": [
              "<Figure size 640x480 with 1 Axes>"
            ],
            "image/png": "[encoded data removed]"
          },
          "metadata": {}
        }
      ]
    },
    {
      "cell_type": "code",
      "source": [
        "# accuracy\n",
        "def accuracy(std_X, Y ,cri = \"model1\"):\n",
        "    if cri == \"model1\":\n",
        "        Z = model1(std_X)\n",
        "    elif cri == \"model2\":\n",
        "        Z = model2(std_X)\n",
        "\n",
        "    Phat = torch.sigmoid(Z)\n",
        "    Yhat = torch.where(Phat > 0.5, 1,0)\n",
        "\n",
        "    return torch.mean( (Y == Yhat).float()) # total parameter result :  tensor(0.9706)"
      ],
      "metadata": {
        "id": "6AVl-Auju8ii"
      },
      "execution_count": 16,
      "outputs": []
    },
    {
      "cell_type": "code",
      "source": [
        "accuracy(X_mod1, Y, \"model1\")"
      ],
      "metadata": {
        "colab": {
          "base_uri": "https://localhost:8080/"
        },
        "id": "zrXmlXIMveLP",
        "outputId": "878fb893-e1ed-4a1b-acd9-e3d4af083449"
      },
      "execution_count": 18,
      "outputs": [
        {
          "output_type": "execute_result",
          "data": {
            "text/plain": [
              "tensor(0.9501)"
            ]
          },
          "metadata": {},
          "execution_count": 18
        }
      ]
    },
    {
      "cell_type": "code",
      "source": [
        "accuracy(std_X, Y, \"model2\")"
      ],
      "metadata": {
        "colab": {
          "base_uri": "https://localhost:8080/"
        },
        "id": "bsrveMfw3f2q",
        "outputId": "77ffc414-0537-4ad6-bae7-c5e36f5eabca"
      },
      "execution_count": 19,
      "outputs": [
        {
          "output_type": "execute_result",
          "data": {
            "text/plain": [
              "tensor(0.9706)"
            ]
          },
          "metadata": {},
          "execution_count": 19
        }
      ]
    },
    {
      "cell_type": "code",
      "source": [
        "Y.shape"
      ],
      "metadata": {
        "colab": {
          "base_uri": "https://localhost:8080/"
        },
        "id": "K2OIQKp9vhB2",
        "outputId": "7e863553-6d6e-4779-c386-abfde5946d38"
      },
      "execution_count": 17,
      "outputs": [
        {
          "output_type": "execute_result",
          "data": {
            "text/plain": [
              "torch.Size([681, 1])"
            ]
          },
          "metadata": {},
          "execution_count": 17
        }
      ]
    },
    {
      "cell_type": "markdown",
      "source": [
        "## CV"
      ],
      "metadata": {
        "id": "dCcY4Bfa6wxl"
      }
    },
    {
      "cell_type": "code",
      "source": [
        "indexset = torch.tensor(np.arange(n), dtype = torch.int32)\n",
        "Trainloader = DataLoader(dataset=indexset, batch_size=math.ceil(n/10), shuffle=False)"
      ],
      "metadata": {
        "id": "fFGMDRAU6x97"
      },
      "execution_count": 20,
      "outputs": []
    },
    {
      "cell_type": "markdown",
      "source": [
        "### CV of model1\n"
      ],
      "metadata": {
        "id": "3Jx1xbr-5y1V"
      }
    },
    {
      "cell_type": "code",
      "source": [
        "epochs=100\n",
        "history=[]\n",
        "\n",
        "Acc1 = 0\n",
        "accuracy = []\n",
        "\n",
        "for test in Trainloader:\n",
        "    X_test = X_mod1[test,:]\n",
        "    Y_test = Y[test, :]\n",
        "    X_train = np.delete(X_mod1,test,axis = 0)\n",
        "    Y_train =  np.delete(Y,test,axis = 0)\n",
        "\n",
        "    model1 = torch.nn.Linear(2,1, bias = True)\n",
        "    my_optimizer = torch.optim.SGD(model1.parameters(), lr = 0.1)\n",
        "\n",
        "    history1 = []\n",
        "\n",
        "\n",
        "    for epoch in tqdm(range(100)):\n",
        "        z = model1(X_train)\n",
        "        phat = torch.sigmoid(z)\n",
        "        loss = neg_log_lik(phat, Y_train)\n",
        "\n",
        "        my_optimizer.zero_grad()\n",
        "        loss.backward()\n",
        "\n",
        "        my_optimizer.step()\n",
        "\n",
        "        history1.append(loss.item())\n",
        "\n",
        "    plt.plot(history1)\n",
        "\n",
        "    Z = model1(X_test)\n",
        "    Phat = torch.sigmoid(Z)\n",
        "    Yhat = torch.where(Phat > 0.5, 1,0)\n",
        "    accuracy.append(torch.mean( (Y_test == Yhat).float()))\n",
        "\n",
        "\n",
        "Acc1 = torch.mean(torch.stack(accuracy))\n"
      ],
      "metadata": {
        "colab": {
          "base_uri": "https://localhost:8080/",
          "height": 636
        },
        "id": "KSxDp-i25yV9",
        "outputId": "ddce2987-8536-454f-b2fa-133dc4513fc9"
      },
      "execution_count": 21,
      "outputs": [
        {
          "output_type": "stream",
          "name": "stderr",
          "text": [
            "100%|██████████| 100/100 [00:00<00:00, 901.88it/s]\n",
            "100%|██████████| 100/100 [00:00<00:00, 785.83it/s]\n",
            "100%|██████████| 100/100 [00:00<00:00, 832.20it/s]\n",
            "100%|██████████| 100/100 [00:00<00:00, 932.46it/s]\n",
            "100%|██████████| 100/100 [00:00<00:00, 915.00it/s]\n",
            "100%|██████████| 100/100 [00:00<00:00, 887.27it/s]\n",
            "100%|██████████| 100/100 [00:00<00:00, 818.17it/s]\n",
            "100%|██████████| 100/100 [00:00<00:00, 831.35it/s]\n",
            "100%|██████████| 100/100 [00:00<00:00, 908.09it/s]\n",
            "100%|██████████| 100/100 [00:00<00:00, 753.56it/s]\n"
          ]
        },
        {
          "output_type": "stream",
          "name": "stdout",
          "text": [
            "tensor(0.9511)\n"
          ]
        },
        {
          "output_type": "display_data",
          "data": {
            "text/plain": [
              "<Figure size 640x480 with 1 Axes>"
            ],
            "image/png": "[encoded data removed]"
          },
          "metadata": {}
        }
      ]
    },
    {
      "cell_type": "code",
      "source": [
        "print(Acc1)"
      ],
      "metadata": {
        "colab": {
          "base_uri": "https://localhost:8080/"
        },
        "id": "JIwOLrGw6PGe",
        "outputId": "605dc78e-bdd2-4cea-d748-5955f70e4c6e"
      },
      "execution_count": 24,
      "outputs": [
        {
          "output_type": "stream",
          "name": "stdout",
          "text": [
            "tensor(0.9511)\n"
          ]
        }
      ]
    },
    {
      "cell_type": "markdown",
      "source": [
        "### CV of model2"
      ],
      "metadata": {
        "id": "wNkLpAs55v4j"
      }
    },
    {
      "cell_type": "code",
      "source": [
        "epochs=100\n",
        "history=[]\n",
        "\n",
        "Acc2 = 0\n",
        "accuracy = []\n",
        "\n",
        "for test in Trainloader:\n",
        "    X_test = std_X[test,:]\n",
        "    Y_test = Y[test, :]\n",
        "    X_train = np.delete(std_X,test,axis = 0)\n",
        "    Y_train =  np.delete(Y,test,axis = 0)\n",
        "\n",
        "    model2 = torch.nn.Linear(9,1, bias = True)\n",
        "    my_optimizer = torch.optim.SGD(model2.parameters(), lr = 0.1)\n",
        "\n",
        "    history2 = []\n",
        "\n",
        "\n",
        "    for epoch in tqdm(range(100)):\n",
        "        z = model2(X_train)\n",
        "        phat = torch.sigmoid(z)\n",
        "        loss = neg_log_lik(phat, Y_train)\n",
        "\n",
        "        my_optimizer.zero_grad()\n",
        "        loss.backward()\n",
        "\n",
        "        my_optimizer.step()\n",
        "\n",
        "        history2.append(loss.item())\n",
        "\n",
        "    plt.plot(history2)\n",
        "\n",
        "    Z = model2(X_test)\n",
        "    Phat = torch.sigmoid(Z)\n",
        "    Yhat = torch.where(Phat > 0.5, 1,0)\n",
        "    accuracy.append(torch.mean( (Y_test == Yhat).float()))\n",
        "\n",
        "\n",
        "Acc2 = torch.mean(torch.stack(accuracy))"
      ],
      "metadata": {
        "id": "fs4Fc_zJ71UM",
        "colab": {
          "base_uri": "https://localhost:8080/",
          "height": 617
        },
        "outputId": "0c629828-0996-4cba-9581-827adf64117c"
      },
      "execution_count": 22,
      "outputs": [
        {
          "output_type": "stream",
          "name": "stderr",
          "text": [
            "100%|██████████| 100/100 [00:00<00:00, 1300.23it/s]\n",
            "100%|██████████| 100/100 [00:00<00:00, 1278.80it/s]\n",
            "100%|██████████| 100/100 [00:00<00:00, 1155.53it/s]\n",
            "100%|██████████| 100/100 [00:00<00:00, 1333.90it/s]\n",
            "100%|██████████| 100/100 [00:00<00:00, 1190.88it/s]\n",
            "100%|██████████| 100/100 [00:00<00:00, 1213.73it/s]\n",
            "100%|██████████| 100/100 [00:00<00:00, 1269.49it/s]\n",
            "100%|██████████| 100/100 [00:00<00:00, 1232.11it/s]\n",
            "100%|██████████| 100/100 [00:00<00:00, 1134.28it/s]\n",
            "100%|██████████| 100/100 [00:00<00:00, 1289.49it/s]\n"
          ]
        },
        {
          "output_type": "display_data",
          "data": {
            "text/plain": [
              "<Figure size 640x480 with 1 Axes>"
            ],
            "image/png": "[encoded data removed]"
          },
          "metadata": {}
        }
      ]
    },
    {
      "cell_type": "code",
      "source": [
        "Acc2"
      ],
      "metadata": {
        "colab": {
          "base_uri": "https://localhost:8080/"
        },
        "id": "ACfQMsgQ9kQ6",
        "outputId": "f85e9058-75cf-4323-fc5d-2b092edd44b1"
      },
      "execution_count": 23,
      "outputs": [
        {
          "output_type": "execute_result",
          "data": {
            "text/plain": [
              "tensor(0.9708)"
            ]
          },
          "metadata": {},
          "execution_count": 23
        }
      ]
    },
    {
      "cell_type": "markdown",
      "source": [
        "# Poisson regression"
      ],
      "metadata": {
        "id": "gnQTJt3E5Wi2"
      }
    },
    {
      "cell_type": "markdown",
      "source": [
        "model  \n",
        "$ y \\sim Pois(exp(X\\beta)) $  \n",
        "$ ca \\sim log(cells) + log(doserate) * dosef $  \n",
        "$X = [log(cells) \\quad log(doserate) * dosef \\quad log(doserate) \\quad dosef], shape = (-1,4) $"
      ],
      "metadata": {
        "id": "zNIYBxuQRPQh"
      }
    },
    {
      "cell_type": "code",
      "source": [
        "dicentric = genfromtxt('/content/dicentric.csv', delimiter = ',', skip_header = 1)\n",
        "\n",
        "Y = dicentric[:,1] # target: ca\n",
        "X = np.delete (dicentric, 1, axis = 1)\n",
        "\n",
        "X.shape"
      ],
      "metadata": {
        "colab": {
          "base_uri": "https://localhost:8080/"
        },
        "id": "cbUcZ-Zg5QZG",
        "outputId": "326d6348-6ae3-40ee-9419-49701c6590e9"
      },
      "execution_count": 25,
      "outputs": [
        {
          "output_type": "execute_result",
          "data": {
            "text/plain": [
              "(27, 3)"
            ]
          },
          "metadata": {},
          "execution_count": 25
        }
      ]
    },
    {
      "cell_type": "markdown",
      "source": [
        "it seems to only normalize for cells  \n",
        "but, we take $log$ so, do not normalization for each paramter"
      ],
      "metadata": {
        "id": "l7EzElQyV9XD"
      }
    },
    {
      "cell_type": "code",
      "source": [
        "print( f'mean: {np.mean(X, axis = 0)} \\n std: {np.std(X, axis = 0)}')"
      ],
      "metadata": {
        "colab": {
          "base_uri": "https://localhost:8080/"
        },
        "id": "IjN4utsUVh_1",
        "outputId": "a2b36d8c-2739-4a86-a801-b987ba1d0de0"
      },
      "execution_count": 43,
      "outputs": [
        {
          "output_type": "stream",
          "name": "stdout",
          "text": [
            "mean: [640.7037037    2.83333333   1.65      ] \n",
            " std: [688.50357404   1.64991582   1.26139253]\n"
          ]
        }
      ]
    },
    {
      "cell_type": "code",
      "source": [
        "X = torch.tensor(X, dtype = torch.float32)\n",
        "Y = torch.tensor(Y, dtype = torch.float32)\n",
        "Y = Y.reshape(-1,1)"
      ],
      "metadata": {
        "id": "ucM1l6-wWUod"
      },
      "execution_count": 47,
      "outputs": []
    },
    {
      "cell_type": "code",
      "source": [
        "torch.log(X[:,0])"
      ],
      "metadata": {
        "colab": {
          "base_uri": "https://localhost:8080/"
        },
        "id": "Kpb2aJCQU98I",
        "outputId": "de80038d-edc5-484c-fef8-09a9fcd7798d"
      },
      "execution_count": 48,
      "outputs": [
        {
          "output_type": "execute_result",
          "data": {
            "text/plain": [
              "tensor([6.1696, 7.5533, 7.7222, 7.7532, 7.1213, 7.3072, 7.3251, 6.6386, 7.2204,\n",
              "        5.7930, 5.2204, 5.8348, 5.7366, 5.6276, 5.5568, 5.5175, 5.6971, 5.4931,\n",
              "        5.3471, 4.9273, 5.0752, 4.7875, 4.4998, 4.6052, 5.7462, 5.2040, 4.9698])"
            ]
          },
          "metadata": {},
          "execution_count": 48
        }
      ]
    },
    {
      "cell_type": "code",
      "source": [
        "X.shape"
      ],
      "metadata": {
        "colab": {
          "base_uri": "https://localhost:8080/"
        },
        "id": "R2NUYh9wWjc5",
        "outputId": "2b36390a-be45-45c6-e1bd-25619de6865f"
      },
      "execution_count": 49,
      "outputs": [
        {
          "output_type": "execute_result",
          "data": {
            "text/plain": [
              "torch.Size([27, 3])"
            ]
          },
          "metadata": {},
          "execution_count": 49
        }
      ]
    },
    {
      "cell_type": "code",
      "source": [
        "# parameter = log(cells) , log(doserate) log(doserate) * dosef, dosef\n",
        "X_mod1 = torch.stack((torch.log(X[:,0]), torch.log(X[:,1]), torch.log(X[:,1]) * X[:,2], X[:,2]), dim = 1)"
      ],
      "metadata": {
        "id": "FOgoVfYbSxTh"
      },
      "execution_count": 50,
      "outputs": []
    },
    {
      "cell_type": "code",
      "source": [
        "def criterion(yhat, yy):\n",
        "  temp = -torch.mean(-yhat + yy*torch.log(yhat)-torch.lgamma(yy+1))\n",
        "  return temp"
      ],
      "metadata": {
        "id": "AXXgwtaHRL1j"
      },
      "execution_count": 51,
      "outputs": []
    },
    {
      "cell_type": "markdown",
      "source": [
        "make cross validation set"
      ],
      "metadata": {
        "id": "KO5FT1AvWteh"
      }
    },
    {
      "cell_type": "code",
      "source": [
        "n = X_mod1.shape[0]\n",
        "\n",
        "dataset1 = TensorDataset(X_mod1,Y)\n",
        "trainloader1 = DataLoader(dataset=dataset1, batch_size=32, shuffle=True)\n",
        "\n",
        "indexset = torch.tensor(np.arange(n), dtype = torch.int32)\n",
        "Trainloader = DataLoader(dataset=indexset, batch_size=math.ceil(n/10), shuffle=False)"
      ],
      "metadata": {
        "id": "f3frHk28Wqwm"
      },
      "execution_count": 80,
      "outputs": []
    },
    {
      "cell_type": "code",
      "source": [
        "epochs=100\n",
        "history=[]\n",
        "\n",
        "MSE1 = 0\n",
        "mse = []\n",
        "\n",
        "for test in Trainloader:\n",
        "    X_test = X_mod1[test,:]\n",
        "    Y_test = Y[test, :]\n",
        "    X_train = np.delete(X_mod1,test,axis = 0)\n",
        "    Y_train =  np.delete(Y,test,axis = 0)\n",
        "\n",
        "    model1 = torch.nn.Linear(4,1, bias = True)\n",
        "    my_optimizer = torch.optim.SGD(model1.parameters(), lr = 0.0001)\n",
        "\n",
        "    history1 = []\n",
        "\n",
        "\n",
        "    for epoch in tqdm(range(100)):\n",
        "        z = model1(X_train)\n",
        "        yhat = torch.exp(z)\n",
        "        loss = criterion(yhat, Y_train)\n",
        "\n",
        "        my_optimizer.zero_grad()\n",
        "\n",
        "        loss.backward()\n",
        "\n",
        "        my_optimizer.step()\n",
        "\n",
        "        history1.append(loss.item())\n",
        "\n",
        "    plt.plot(history1)\n",
        "\n",
        "    Z = model1(X_test)\n",
        "    Yhat = torch.exp(Z)\n",
        "    mse.append(torch.mean((Y_test - Yhat)**2))\n",
        "\n",
        "\n",
        "MSE1 = torch.mean(torch.stack(mse))"
      ],
      "metadata": {
        "id": "qZTdvK_I6Nmb",
        "colab": {
          "base_uri": "https://localhost:8080/",
          "height": 598
        },
        "outputId": "2dafa3e9-3b46-447f-efb5-d1504a632122"
      },
      "execution_count": 101,
      "outputs": [
        {
          "output_type": "stream",
          "name": "stderr",
          "text": [
            "100%|██████████| 100/100 [00:00<00:00, 1349.10it/s]\n",
            "100%|██████████| 100/100 [00:00<00:00, 1472.28it/s]\n",
            "100%|██████████| 100/100 [00:00<00:00, 1450.62it/s]\n",
            "100%|██████████| 100/100 [00:00<00:00, 1382.79it/s]\n",
            "100%|██████████| 100/100 [00:00<00:00, 1456.22it/s]\n",
            "100%|██████████| 100/100 [00:00<00:00, 1301.42it/s]\n",
            "100%|██████████| 100/100 [00:00<00:00, 1320.23it/s]\n",
            "100%|██████████| 100/100 [00:00<00:00, 1385.26it/s]\n",
            "100%|██████████| 100/100 [00:00<00:00, 1485.98it/s]\n"
          ]
        },
        {
          "output_type": "display_data",
          "data": {
            "text/plain": [
              "<Figure size 640x480 with 1 Axes>"
            ],
            "image/png": "[encoded data removed]"
          },
          "metadata": {}
        }
      ]
    },
    {
      "cell_type": "code",
      "source": [
        "MSE1"
      ],
      "metadata": {
        "colab": {
          "base_uri": "https://localhost:8080/"
        },
        "id": "rav7bR3gXUcV",
        "outputId": "dfd04ca3-b50e-4171-faf3-a19ef32c555d"
      },
      "execution_count": 102,
      "outputs": [
        {
          "output_type": "execute_result",
          "data": {
            "text/plain": [
              "tensor(4647.3252, grad_fn=<MeanBackward0>)"
            ]
          },
          "metadata": {},
          "execution_count": 102
        }
      ]
    },
    {
      "cell_type": "code",
      "source": [],
      "metadata": {
        "id": "QYYvsbnpZlvk"
      },
      "execution_count": null,
      "outputs": []
    }
  ]
}