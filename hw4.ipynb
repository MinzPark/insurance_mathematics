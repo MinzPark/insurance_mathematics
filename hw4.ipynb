{
  "nbformat": 4,
  "nbformat_minor": 0,
  "metadata": {
    "colab": {
      "provenance": [],
      "collapsed_sections": [
        "jIkMuQdzyINb",
        "bO35ijsoG-Qk"
      ],
      "toc_visible": true
    },
    "kernelspec": {
      "name": "python3",
      "display_name": "Python 3"
    },
    "language_info": {
      "name": "python"
    }
  },
  "cells": [
    {
      "cell_type": "markdown",
      "source": [
        "# GLM: Gamma, Lognormal and Weibull"
      ],
      "metadata": {
        "id": "x43wVhW7f1Vp"
      }
    },
    {
      "cell_type": "code",
      "execution_count": 1,
      "metadata": {
        "id": "VCSoDHEdhpQL"
      },
      "outputs": [],
      "source": [
        "import torch\n",
        "import numpy as np\n",
        "import matplotlib.pyplot as plt\n",
        "from torch.utils.data import TensorDataset, DataLoader\n"
      ]
    },
    {
      "cell_type": "markdown",
      "source": [
        "# 0. Generation of Data:\n",
        "\n",
        "## 0.1. From Weibull:\n"
      ],
      "metadata": {
        "id": "bzKuf2zYx8aC"
      }
    },
    {
      "cell_type": "code",
      "source": [
        "nsim = 10000\n",
        "ntrain = np.int_(nsim/2)\n",
        "x1_candidate = np.array([0,1.0])\n",
        "x1 = np.random.choice(x1_candidate, nsim)\n",
        "x2 = np.random.uniform(0,1,nsim)\n",
        "alpha_=np.array([0.4, -0.2, 0.35])\n",
        "lambda_ = np.exp(alpha_[0] + alpha_[1]*x1 + alpha_[2]*x2) # scale\n",
        "sig_ =1.7 #shape\n",
        "y = np.random.weibull(sig_, size=nsim) * lambda_\n",
        "ones = np.ones(nsim)"
      ],
      "metadata": {
        "id": "4BjAtbKej4HE"
      },
      "execution_count": 2,
      "outputs": []
    },
    {
      "cell_type": "markdown",
      "source": [
        "## 0.2 From log-normal:"
      ],
      "metadata": {
        "id": "E4PGM_eXSN0i"
      }
    },
    {
      "cell_type": "code",
      "source": [
        "# nsim = 10000\n",
        "# ntrain = np.int_(nsim/2)\n",
        "# x1_candidate = np.array([0,1.0])\n",
        "# x1 = np.random.choice(x1_candidate, nsim)\n",
        "# x2 = np.random.uniform(0,1,nsim)\n",
        "# alpha_=np.array([0.4, -0.2, 0.35])\n",
        "# lambda_true = np.exp(alpha_[0] + alpha_[1]*x1 + alpha_[2]*x2) # scale\n",
        "# sig_ =1.0 #shape\n",
        "# y = torch.tensor(torch.exp(torch.tensor(lambda_true)+torch.randn(nsim)*sig_), dtype=torch.float32)\n",
        "# ones = np.ones(nsim)"
      ],
      "metadata": {
        "id": "tEhXn1hDQEP2"
      },
      "execution_count": 3,
      "outputs": []
    },
    {
      "cell_type": "code",
      "source": [
        "X = torch.tensor(np.stack([ones, x1, x2], axis=1), dtype=torch.float32)\n",
        "Y = torch.tensor(y, dtype=torch.float32)\n",
        "print(X.shape, Y.shape)"
      ],
      "metadata": {
        "colab": {
          "base_uri": "https://localhost:8080/"
        },
        "id": "pczJkibQj36c",
        "outputId": "5c97e9ee-a558-44fb-aeba-3456d1e6d987"
      },
      "execution_count": 4,
      "outputs": [
        {
          "output_type": "stream",
          "name": "stdout",
          "text": [
            "torch.Size([10000, 3]) torch.Size([10000])\n"
          ]
        }
      ]
    },
    {
      "cell_type": "code",
      "source": [
        "train_data = TensorDataset(X[:ntrain, ], Y[:ntrain, ].reshape([-1, 1]))\n",
        "trainloader= DataLoader(dataset = train_data, batch_size=32, shuffle=True)\n",
        "\n",
        "test_data = TensorDataset(X[ntrain:, ], Y[ntrain:, ].reshape([-1, 1]))\n",
        "testloader= DataLoader(dataset = test_data, batch_size=5000, shuffle=False)\n"
      ],
      "metadata": {
        "id": "9Il9TTSXosNW"
      },
      "execution_count": 5,
      "outputs": []
    },
    {
      "cell_type": "markdown",
      "source": [
        "## 1. Weibull distribution"
      ],
      "metadata": {
        "id": "tAn2a_PYyDOs"
      }
    },
    {
      "cell_type": "code",
      "source": [
        "def log_weib(x,n,a): # n:scale, a:shape\n",
        "    return torch.log((a / n)) +  (a - 1)*torch.log(x / n) -(x / n)**a"
      ],
      "metadata": {
        "id": "feCoMj2koYOi"
      },
      "execution_count": 6,
      "outputs": []
    },
    {
      "cell_type": "code",
      "source": [
        "a1 = torch.tensor(torch.rand(1), requires_grad=True)\n",
        "DN1 = torch.nn.Sequential(\n",
        "    torch.nn.Linear(3, 1, bias=False),\n",
        ")\n",
        "\n",
        "def loss_ftn_wei(y, yhat):\n",
        "  return -torch.sum(log_weib(y, yhat, a1))\n",
        "optimizer = torch.optim.SGD(list(DN1.parameters())+[a1], lr=0.0001)\n",
        "history = []"
      ],
      "metadata": {
        "id": "-2IcU1GEf6R4",
        "colab": {
          "base_uri": "https://localhost:8080/"
        },
        "outputId": "7c1680ab-8d20-4095-8725-9c9976d87dce"
      },
      "execution_count": 7,
      "outputs": [
        {
          "output_type": "stream",
          "name": "stderr",
          "text": [
            "<ipython-input-7-8516a136dce6>:1: UserWarning: To copy construct from a tensor, it is recommended to use sourceTensor.clone().detach() or sourceTensor.clone().detach().requires_grad_(True), rather than torch.tensor(sourceTensor).\n",
            "  a1 = torch.tensor(torch.rand(1), requires_grad=True)\n"
          ]
        }
      ]
    },
    {
      "cell_type": "code",
      "source": [
        "epochs=100\n",
        "history=[]\n",
        "\n",
        "for epoch in range(epochs):\n",
        "  running_loss =0\n",
        "  for xx, yy in trainloader:\n",
        "    optimizer.zero_grad()\n",
        "    uhat1 = torch.exp(DN1(xx))\n",
        "    loss = loss_ftn(yy, uhat1)\n",
        "    loss.backward()\n",
        "    optimizer.step()\n",
        "    running_loss += loss.item()*len(xx)\n",
        "  history.append(running_loss/len(trainloader.dataset))"
      ],
      "metadata": {
        "id": "C74rsI-zg11Z"
      },
      "execution_count": 8,
      "outputs": []
    },
    {
      "cell_type": "code",
      "source": [
        "plt.plot(history)"
      ],
      "metadata": {
        "colab": {
          "base_uri": "https://localhost:8080/",
          "height": 448
        },
        "id": "q6g-BBRwg7S_",
        "outputId": "b9514747-d3ae-4926-9680-71d78ada5e24"
      },
      "execution_count": 9,
      "outputs": [
        {
          "output_type": "execute_result",
          "data": {
            "text/plain": [
              "[<matplotlib.lines.Line2D at 0x7d6fc59de200>]"
            ]
          },
          "metadata": {},
          "execution_count": 9
        },
        {
          "output_type": "display_data",
          "data": {
            "text/plain": [
              "<Figure size 640x480 with 1 Axes>"
            ],
            "image/png": "[encoded data removed]"
          },
          "metadata": {}
        }
      ]
    },
    {
      "cell_type": "code",
      "source": [
        "mse1=0\n",
        "for xx, yy in testloader:\n",
        "  yhat1 = torch.exp(DN1(xx)) * torch.exp(torch.lgamma(1+1/a1))\n",
        "  mse1 +=torch.sum((yy-yhat1)**2)\n",
        "\n",
        "mse1/len(testloader.dataset)"
      ],
      "metadata": {
        "colab": {
          "base_uri": "https://localhost:8080/"
        },
        "id": "DtGh0Cd7s1bX",
        "outputId": "2e263f91-801c-4a78-d735-82de37956f9f"
      },
      "execution_count": null,
      "outputs": [
        {
          "output_type": "execute_result",
          "data": {
            "text/plain": [
              "tensor(0.7864, grad_fn=<DivBackward0>)"
            ]
          },
          "metadata": {},
          "execution_count": 369
        }
      ]
    },
    {
      "cell_type": "markdown",
      "source": [
        "## Lognorm distribution"
      ],
      "metadata": {
        "id": "jIkMuQdzyINb"
      }
    },
    {
      "cell_type": "code",
      "source": [
        "def log_pdf_normal(x, u, s):\n",
        "    return -torch.log(x*s*torch.sqrt(torch.tensor(2.0)*torch.pi)) -  ( torch.log(x)-u )**2/2/s**2"
      ],
      "metadata": {
        "id": "hG_cn6aiCoRA"
      },
      "execution_count": null,
      "outputs": []
    },
    {
      "cell_type": "code",
      "source": [
        "a2 = torch.tensor(torch.rand(1), requires_grad=True)\n",
        "DN2 = torch.nn.Sequential(\n",
        "    torch.nn.Linear(3, 1, bias=False),\n",
        ")\n",
        "\n",
        "def loss_ftn(y, yhat):\n",
        "  return -torch.sum(log_pdf_normal(y, yhat, a2))\n",
        "optimizer = torch.optim.SGD(list(DN2.parameters())+[a2], lr=0.001)\n",
        "history = []"
      ],
      "metadata": {
        "colab": {
          "base_uri": "https://localhost:8080/"
        },
        "outputId": "3fed7f01-d8d0-4a8d-bc54-a62d396f4c03",
        "id": "fzMzpZJTyZRt"
      },
      "execution_count": null,
      "outputs": [
        {
          "output_type": "stream",
          "name": "stderr",
          "text": [
            "<ipython-input-375-44de14f550ab>:1: UserWarning: To copy construct from a tensor, it is recommended to use sourceTensor.clone().detach() or sourceTensor.clone().detach().requires_grad_(True), rather than torch.tensor(sourceTensor).\n",
            "  a2 = torch.tensor(torch.rand(1), requires_grad=True)\n"
          ]
        }
      ]
    },
    {
      "cell_type": "code",
      "source": [
        "epochs=200\n",
        "history=[]\n",
        "\n",
        "for epoch in range(epochs):\n",
        "  running_loss =0\n",
        "  for xx, yy in trainloader:\n",
        "    optimizer.zero_grad()\n",
        "    uhat2 = torch.exp(DN2(xx))\n",
        "    loss = loss_ftn(yy, uhat2)\n",
        "    loss.backward()\n",
        "    optimizer.step()\n",
        "    running_loss += loss.item()*len(xx)\n",
        "  history.append(running_loss/len(trainloader.dataset))"
      ],
      "metadata": {
        "id": "E9kvWMUHyZRt"
      },
      "execution_count": null,
      "outputs": []
    },
    {
      "cell_type": "code",
      "source": [
        "plt.plot(history)"
      ],
      "metadata": {
        "colab": {
          "base_uri": "https://localhost:8080/",
          "height": 448
        },
        "outputId": "331ce6fd-12ed-4559-f003-ac56d9604eb5",
        "id": "dPujMFUZCoRA"
      },
      "execution_count": null,
      "outputs": [
        {
          "output_type": "execute_result",
          "data": {
            "text/plain": [
              "[<matplotlib.lines.Line2D at 0x7c1e4836d930>]"
            ]
          },
          "metadata": {},
          "execution_count": 377
        },
        {
          "output_type": "display_data",
          "data": {
            "text/plain": [
              "<Figure size 640x480 with 1 Axes>"
            ],
            "image/png": "[encoded data removed]"
          },
          "metadata": {}
        }
      ]
    },
    {
      "cell_type": "code",
      "source": [
        "DN2[0].weight"
      ],
      "metadata": {
        "id": "NrgZdH2OhMrI",
        "colab": {
          "base_uri": "https://localhost:8080/"
        },
        "outputId": "7eaf3cdc-30cf-4afc-a767-ffa41dec02b8"
      },
      "execution_count": null,
      "outputs": [
        {
          "output_type": "execute_result",
          "data": {
            "text/plain": [
              "Parameter containing:\n",
              "tensor([[-2.5715, -0.9893,  1.9182]], requires_grad=True)"
            ]
          },
          "metadata": {},
          "execution_count": 378
        }
      ]
    },
    {
      "cell_type": "code",
      "source": [
        "a2"
      ],
      "metadata": {
        "colab": {
          "base_uri": "https://localhost:8080/"
        },
        "id": "dtFMqHcVKAIL",
        "outputId": "3b98ac89-93f8-47c5-e285-ae5b9056cf51"
      },
      "execution_count": null,
      "outputs": [
        {
          "output_type": "execute_result",
          "data": {
            "text/plain": [
              "tensor([0.7482], requires_grad=True)"
            ]
          },
          "metadata": {},
          "execution_count": 379
        }
      ]
    },
    {
      "cell_type": "code",
      "source": [
        "alpha_"
      ],
      "metadata": {
        "id": "ym6_UY7v03iE",
        "colab": {
          "base_uri": "https://localhost:8080/"
        },
        "outputId": "696e0651-fcaa-4b72-e22e-f68b66ba2b19"
      },
      "execution_count": null,
      "outputs": [
        {
          "output_type": "execute_result",
          "data": {
            "text/plain": [
              "array([ 0.4 , -0.2 ,  0.35])"
            ]
          },
          "metadata": {},
          "execution_count": 380
        }
      ]
    },
    {
      "cell_type": "code",
      "source": [
        "mse2=0\n",
        "for xx, yy in testloader:\n",
        "  #torch.mean((yhat_True-yhat1)**2)\n",
        "  yhat2 = torch.exp(torch.exp(DN2(xx))+a2**2/2)\n",
        "  mse2 +=torch.sum((yy-yhat2)**2)\n",
        "\n",
        "mse2/len(testloader.dataset)"
      ],
      "metadata": {
        "colab": {
          "base_uri": "https://localhost:8080/"
        },
        "outputId": "e56fa611-9e38-45ce-be0d-4c6bce6aa50a",
        "id": "56FMUA5A3oMG"
      },
      "execution_count": null,
      "outputs": [
        {
          "output_type": "execute_result",
          "data": {
            "text/plain": [
              "tensor(0.8049, grad_fn=<DivBackward0>)"
            ]
          },
          "metadata": {},
          "execution_count": 381
        }
      ]
    },
    {
      "cell_type": "code",
      "source": [
        "#torch.mean((yhat_True-yhat2)**2)"
      ],
      "metadata": {
        "id": "UflrJ7vXN8xP"
      },
      "execution_count": null,
      "outputs": []
    },
    {
      "cell_type": "code",
      "source": [
        "torch.mean((yhat1-yhat2)**2)"
      ],
      "metadata": {
        "colab": {
          "base_uri": "https://localhost:8080/"
        },
        "id": "_CPy12427oUN",
        "outputId": "b91f3e78-e959-41eb-9945-18d9bd7c879e"
      },
      "execution_count": null,
      "outputs": [
        {
          "output_type": "execute_result",
          "data": {
            "text/plain": [
              "tensor(0.0187, grad_fn=<MeanBackward0>)"
            ]
          },
          "metadata": {},
          "execution_count": 383
        }
      ]
    },
    {
      "cell_type": "code",
      "source": [
        "a2"
      ],
      "metadata": {
        "colab": {
          "base_uri": "https://localhost:8080/"
        },
        "id": "mi_u_aAffIJo",
        "outputId": "c84a294b-204d-476c-b9da-2264c58f6069"
      },
      "execution_count": null,
      "outputs": [
        {
          "output_type": "execute_result",
          "data": {
            "text/plain": [
              "tensor([0.7482], requires_grad=True)"
            ]
          },
          "metadata": {},
          "execution_count": 384
        }
      ]
    },
    {
      "cell_type": "markdown",
      "source": [
        "## 2. Comparison of the prediction of $E[Y \\wedge d]$"
      ],
      "metadata": {
        "id": "bO35ijsoG-Qk"
      }
    },
    {
      "cell_type": "code",
      "source": [
        "# When True model is Log normal\n",
        "q = torch.tensor([0.1, 0.25, 0.4, 0.5, 0.6, 0.7, 0.8, 0.9])\n",
        "ds = torch.quantile(Y, q)\n",
        "\n",
        "MSE_btw_1_2 = torch.ones([8])\n",
        "myMSE1 = torch.ones([8])\n",
        "myMSE2 = torch.ones([8])\n",
        "for i in range(8):\n",
        " d = ds[i]\n",
        " for xx, yy in testloader:\n",
        "  #lambda_true_test = torch.exp(xx@torch.tensor([[0.4, -0.2, 0.35]]).T)\n",
        "  #yhat_True = torch.exp(lambda_true_test + sig_**2/2)\n",
        "  lambda_1 = torch.exp(DN1(xx))\n",
        "  my_gamma = torch.exp(torch.lgamma(1+1/a1))\n",
        "  my_gamma_inc = torch.special.gammainc(1+1/a1, (d/lambda_1)**a1)\n",
        "  # E[Y ^ d]\n",
        "  Ey_small_d_mod1 = lambda_1 * my_gamma *my_gamma_inc + d*torch.exp(-(d/lambda_1)**a1)\n",
        "  # E[(Y-d)_+]\n",
        "  Ey_minus_d_mod1 = yhat1- Ey_small_d_mod1\n",
        "\n",
        " m = torch.distributions.normal.Normal(torch.tensor([0.0]), torch.tensor([1.0]))\n",
        " for xx, yy in testloader:\n",
        "  uhat2 = torch.exp(DN2(xx))\n",
        "  # E[Y ^ d]\n",
        "  #Ey_small_d_True = torch.exp(lambda_true_test+sig_**2/2)*m.cdf((torch.log(d)-lambda_true_test-sig_**2)/sig_)+d*(1-m.cdf((torch.log(d)-lambda_true_test)/sig_))\n",
        "  Ey_small_d_mod2 = torch.exp(uhat2+a2**2/2)*m.cdf((torch.log(d)-uhat2-a2**2)/a2)+d*(1-m.cdf((torch.log(d)-uhat2)/a2))\n",
        "  # E[(Y-d)_+]\n",
        "  Ey_minus_d_mod2 = yhat2 - Ey_small_d_mod2\n",
        " #myMSE1[i] = torch.mean((Ey_small_d_True-Ey_small_d_mod1)**2)\n",
        " #myMSE2[i] = torch.mean((Ey_small_d_True-Ey_small_d_mod2)**2)\n",
        " MSE_btw_1_2[i] = torch.mean((Ey_small_d_mod2-Ey_small_d_mod1)**2)\n"
      ],
      "metadata": {
        "id": "pqa-iMDG8dqe"
      },
      "execution_count": null,
      "outputs": []
    },
    {
      "cell_type": "code",
      "source": [
        "MSE_btw_1_2"
      ],
      "metadata": {
        "colab": {
          "base_uri": "https://localhost:8080/"
        },
        "id": "97i6NrmbXAsK",
        "outputId": "f8eebf0d-02c1-4cac-f80d-a6f2c8552283"
      },
      "execution_count": null,
      "outputs": [
        {
          "output_type": "execute_result",
          "data": {
            "text/plain": [
              "tensor([3.5338e-05, 4.9495e-05, 4.6190e-04, 1.2569e-03, 2.4797e-03, 3.8761e-03,\n",
              "        5.2721e-03, 6.0631e-03], grad_fn=<CopySlices>)"
            ]
          },
          "metadata": {},
          "execution_count": 386
        }
      ]
    },
    {
      "cell_type": "code",
      "source": [
        "torch.mean((yy - yhat1 )**2)"
      ],
      "metadata": {
        "colab": {
          "base_uri": "https://localhost:8080/"
        },
        "id": "9R_byuoqSniD",
        "outputId": "ab96c836-ae58-42ff-9f2c-49d5ba7c4c3f"
      },
      "execution_count": null,
      "outputs": [
        {
          "output_type": "execute_result",
          "data": {
            "text/plain": [
              "tensor(0.7864, grad_fn=<MeanBackward0>)"
            ]
          },
          "metadata": {},
          "execution_count": 387
        }
      ]
    },
    {
      "cell_type": "code",
      "source": [
        "torch.mean((yhat1 - yhat2 )**2)"
      ],
      "metadata": {
        "colab": {
          "base_uri": "https://localhost:8080/"
        },
        "id": "IN5AU-EBSwMc",
        "outputId": "f39dd59d-3a23-4508-80e7-0aaa52e5131e"
      },
      "execution_count": null,
      "outputs": [
        {
          "output_type": "execute_result",
          "data": {
            "text/plain": [
              "tensor(0.0187, grad_fn=<MeanBackward0>)"
            ]
          },
          "metadata": {},
          "execution_count": 388
        }
      ]
    },
    {
      "cell_type": "code",
      "source": [
        "torch.mean((yy - yhat2 )**2)"
      ],
      "metadata": {
        "colab": {
          "base_uri": "https://localhost:8080/"
        },
        "id": "fnmq20aFY7zJ",
        "outputId": "f1b97d06-7c32-4e34-ce79-89bf2e0e0b77"
      },
      "execution_count": null,
      "outputs": [
        {
          "output_type": "execute_result",
          "data": {
            "text/plain": [
              "tensor(0.8049, grad_fn=<MeanBackward0>)"
            ]
          },
          "metadata": {},
          "execution_count": 389
        }
      ]
    },
    {
      "cell_type": "code",
      "source": [
        "torch.mean(yy)"
      ],
      "metadata": {
        "colab": {
          "base_uri": "https://localhost:8080/"
        },
        "id": "pL6_dbOeakLG",
        "outputId": "7d61a32a-62be-46d4-e343-1eabfe767f0d"
      },
      "execution_count": null,
      "outputs": [
        {
          "output_type": "execute_result",
          "data": {
            "text/plain": [
              "tensor(2.0986)"
            ]
          },
          "metadata": {},
          "execution_count": 358
        }
      ]
    },
    {
      "cell_type": "code",
      "source": [
        "torch.std(yy)"
      ],
      "metadata": {
        "colab": {
          "base_uri": "https://localhost:8080/"
        },
        "id": "Nb_dbIeeamIJ",
        "outputId": "48e1d3ac-3f2e-43f5-e1cd-cee705362197"
      },
      "execution_count": null,
      "outputs": [
        {
          "output_type": "execute_result",
          "data": {
            "text/plain": [
              "tensor(3.1497)"
            ]
          },
          "metadata": {},
          "execution_count": 359
        }
      ]
    },
    {
      "cell_type": "markdown",
      "source": [
        "# HW Problem 3: Gamma regression\n",
        "\n",
        "Using the same data as in the previous examples, you want to use the following Gamma regression model.\n",
        "\n",
        "$\n",
        "y_i \\sim Gamma(mean = \\mu_i, dispersion = \\psi)\n",
        "$\n",
        "where $\\mu_i = \\exp(X_i \\beta)$.\n",
        "\n",
        "Answer the following questions.\n",
        "\n",
        "1. Derive the MLE estimators of $\\beta$ and $\\psi$, and calculate AIC. Compare the AICs of Gamma regression and Weibull regression. Which is better?\n",
        "\n",
        "2. Calculate Test MSE and compare the result with Weibull regression. Which is better?\n",
        "\n"
      ],
      "metadata": {
        "id": "AwcwEFfqNNkj"
      }
    },
    {
      "cell_type": "code",
      "source": [
        "def log_pdf_gamma(x, alp, bet):\n",
        "    m = torch.distributions.gamma.Gamma(alp,bet)\n",
        "    return m.log_prob(x)"
      ],
      "metadata": {
        "id": "iZLG3Wg3NTMe"
      },
      "execution_count": 10,
      "outputs": []
    },
    {
      "cell_type": "code",
      "source": [
        "disp = torch.tensor(torch.rand(1), requires_grad=True)\n",
        "DN_gamma = torch.nn.Sequential(\n",
        "    torch.nn.Linear(3, 1, bias=False),\n",
        ")\n",
        "\n",
        "def loss_ftn(y, yhat):\n",
        "  return -torch.sum(log_pdf_gamma(y, 1.0/disp, 1.0/disp/yhat))\n",
        "optimizer = torch.optim.SGD(list(DN_gamma.parameters())+[disp], lr=0.001)\n",
        "history = []"
      ],
      "metadata": {
        "colab": {
          "base_uri": "https://localhost:8080/"
        },
        "outputId": "eaf456c0-975b-4c63-a2c9-0a053f2dedfb",
        "id": "sTQKRq3CNTMf"
      },
      "execution_count": 11,
      "outputs": [
        {
          "output_type": "stream",
          "name": "stderr",
          "text": [
            "<ipython-input-11-f245fd03074a>:1: UserWarning: To copy construct from a tensor, it is recommended to use sourceTensor.clone().detach() or sourceTensor.clone().detach().requires_grad_(True), rather than torch.tensor(sourceTensor).\n",
            "  disp = torch.tensor(torch.rand(1), requires_grad=True)\n"
          ]
        }
      ]
    },
    {
      "cell_type": "code",
      "source": [
        "epochs=200\n",
        "history=[]\n",
        "\n",
        "for epoch in range(epochs):\n",
        "  running_loss =0\n",
        "  for xx, yy in trainloader:\n",
        "    optimizer.zero_grad()\n",
        "    yhat = torch.exp(DN_gamma(xx))\n",
        "    loss = loss_ftn(yy, yhat)\n",
        "    loss.backward()\n",
        "    optimizer.step()\n",
        "    running_loss += loss.item()*len(xx)\n",
        "  history.append(running_loss/len(trainloader.dataset))"
      ],
      "metadata": {
        "id": "a_o_vkvSNTMf"
      },
      "execution_count": 12,
      "outputs": []
    },
    {
      "cell_type": "code",
      "source": [
        "plt.plot(history)"
      ],
      "metadata": {
        "colab": {
          "base_uri": "https://localhost:8080/",
          "height": 448
        },
        "id": "9siwq_RNOh2m",
        "outputId": "daf460eb-044f-41b5-e3be-2d3fd6ea49f7"
      },
      "execution_count": 13,
      "outputs": [
        {
          "output_type": "execute_result",
          "data": {
            "text/plain": [
              "[<matplotlib.lines.Line2D at 0x7d6fc38ebcd0>]"
            ]
          },
          "metadata": {},
          "execution_count": 13
        },
        {
          "output_type": "display_data",
          "data": {
            "text/plain": [
              "<Figure size 640x480 with 1 Axes>"
            ],
            "image/png": "[encoded data removed]"
          },
          "metadata": {}
        }
      ]
    },
    {
      "cell_type": "markdown",
      "source": [
        "#### 1. Derive the MLE estimators of $\\beta$ and $\\psi$, and calculate AIC. Compare the AICs of Gamma regression and Weibull regression. Which is better?\n"
      ],
      "metadata": {
        "id": "FKdDsjGt9hBO"
      }
    },
    {
      "cell_type": "code",
      "source": [
        "print(f'Weibull betas : {DN1[0].weight} and \\n shape : {a1}')\n",
        "print(f'Gamma betas : {list(DN_gamma[0].weight)} and \\n dispersion : {disp}')"
      ],
      "metadata": {
        "colab": {
          "base_uri": "https://localhost:8080/"
        },
        "id": "7MhAkODl9klx",
        "outputId": "e6f76b1c-7d41-4b82-ff8f-805b9d56f8d8"
      },
      "execution_count": 16,
      "outputs": [
        {
          "output_type": "stream",
          "name": "stdout",
          "text": [
            "Weibull betas : Parameter containing:\n",
            "tensor([[ 0.4049, -0.2174,  0.3550]], requires_grad=True) and \n",
            " shape : tensor([1.7072], requires_grad=True)\n",
            "Gamma betas : [tensor([ 0.2906, -0.1912,  0.3641], grad_fn=<UnbindBackward0>)] and \n",
            " dispersion : tensor([0.3781], requires_grad=True)\n"
          ]
        }
      ]
    },
    {
      "cell_type": "code",
      "source": [
        "torch.exp(DN1(X)).shape"
      ],
      "metadata": {
        "colab": {
          "base_uri": "https://localhost:8080/"
        },
        "id": "S3giISE6DxvZ",
        "outputId": "3fb3b9ed-8e7f-4b74-8d48-b0efebbd2bf8"
      },
      "execution_count": 38,
      "outputs": [
        {
          "output_type": "execute_result",
          "data": {
            "text/plain": [
              "torch.Size([10000, 1])"
            ]
          },
          "metadata": {},
          "execution_count": 38
        }
      ]
    },
    {
      "cell_type": "code",
      "source": [
        "Y.shape"
      ],
      "metadata": {
        "colab": {
          "base_uri": "https://localhost:8080/"
        },
        "id": "k5iuA0KPD0tK",
        "outputId": "96ec982a-01e5-4a76-f6d4-1e1ef3bf2ade"
      },
      "execution_count": 20,
      "outputs": [
        {
          "output_type": "execute_result",
          "data": {
            "text/plain": [
              "torch.Size([10000])"
            ]
          },
          "metadata": {},
          "execution_count": 20
        }
      ]
    },
    {
      "cell_type": "code",
      "source": [
        "# AIC\n",
        "def loss_ftn_wei(y, yhat):\n",
        "  return -torch.sum(log_weib(y, yhat, a1))\n",
        "\n",
        "def loss_ftn_gamm(y, yhat):\n",
        "  return -torch.sum(log_pdf_gamma(y, 1.0/disp, 1.0/disp/yhat))\n",
        "\n",
        "Wei_Yhat = torch.exp(DN1(X)) * torch.exp(torch.lgamma(1+1/a1))\n",
        "Gam_Yhat = torch.exp(DN_gamma(X))\n",
        "AIC_wei = -2* (-loss_ftn_wei(Y.reshape(-1,1), Wei_Yhat)) + 2 *4\n",
        "AIC_gamm = -2* (-loss_ftn_gamm(Y.reshape(-1,1), Gam_Yhat)) + 2 *4\n",
        "\n",
        "print(f'AIC of Weibull:{AIC_wei}')\n",
        "print(f'AIC of Gamma:{AIC_gamm}')"
      ],
      "metadata": {
        "colab": {
          "base_uri": "https://localhost:8080/"
        },
        "id": "3dn8hVwjDaa6",
        "outputId": "9f370217-61ee-4882-e387-b7d57efc3c44"
      },
      "execution_count": 22,
      "outputs": [
        {
          "output_type": "stream",
          "name": "stdout",
          "text": [
            "AIC of Weibull:23986.42578125\n",
            "AIC of Gamma:23790.125\n"
          ]
        }
      ]
    },
    {
      "cell_type": "markdown",
      "source": [
        "#### 2. Calculate Test MSE and compare the result with Weibull regression. Which is better?"
      ],
      "metadata": {
        "id": "xqGpePkX9kBH"
      }
    },
    {
      "cell_type": "markdown",
      "source": [
        "#### MSE"
      ],
      "metadata": {
        "id": "6LAhRmku8Rjj"
      }
    },
    {
      "cell_type": "code",
      "source": [
        "mse_wei=0\n",
        "for xx, yy in testloader:\n",
        "  #yhat_True = torch.exp(torch.exp(xx@torch.tensor([[0.4, -0.2, 0.35]]).T) + sig_**2/2)\n",
        "  yhat_wei = torch.exp(DN1(xx)) * torch.exp(torch.lgamma(1+1/a1))\n",
        "  mse_wei +=torch.sum((yy-yhat_wei)**2)\n",
        "\n",
        "mse_wei/len(testloader.dataset)"
      ],
      "metadata": {
        "colab": {
          "base_uri": "https://localhost:8080/"
        },
        "id": "exZjek0y8Sw_",
        "outputId": "79df410a-c6a7-4f9e-ee1a-3976d26b264d"
      },
      "execution_count": 23,
      "outputs": [
        {
          "output_type": "execute_result",
          "data": {
            "text/plain": [
              "tensor(0.7954, grad_fn=<DivBackward0>)"
            ]
          },
          "metadata": {},
          "execution_count": 23
        }
      ]
    },
    {
      "cell_type": "code",
      "source": [
        "mse_gam=0\n",
        "for xx, yy in testloader:\n",
        "  yhat_gam = torch.exp(DN_gamma(xx))\n",
        "  mse_gam +=torch.sum((yy-yhat_gam)**2)\n",
        "\n",
        "mse_gam/len(testloader.dataset)"
      ],
      "metadata": {
        "colab": {
          "base_uri": "https://localhost:8080/"
        },
        "id": "EzGTE5he8Vsr",
        "outputId": "938f9207-d3e1-4b97-ddda-2c66bc3c10a1"
      },
      "execution_count": 24,
      "outputs": [
        {
          "output_type": "execute_result",
          "data": {
            "text/plain": [
              "tensor(0.7961, grad_fn=<DivBackward0>)"
            ]
          },
          "metadata": {},
          "execution_count": 24
        }
      ]
    },
    {
      "cell_type": "markdown",
      "source": [
        "근소하게 weibull distribution으로 가정한 결과가 더 좋아보임."
      ],
      "metadata": {
        "id": "tOSELDJK-78R"
      }
    },
    {
      "cell_type": "code",
      "source": [
        "print(f'MSE of Weibull: {mse_wei/len(testloader.dataset)}\\nMSE of Gamma: {mse_gam/len(testloader.dataset)}')"
      ],
      "metadata": {
        "colab": {
          "base_uri": "https://localhost:8080/"
        },
        "id": "askWqu-K8b4x",
        "outputId": "fdf98319-4774-4fce-b421-9cba48baa545"
      },
      "execution_count": 25,
      "outputs": [
        {
          "output_type": "stream",
          "name": "stdout",
          "text": [
            "MSE of Weibull: 0.7953805327415466\n",
            "MSE of Gamma: 0.7960628867149353\n"
          ]
        }
      ]
    },
    {
      "cell_type": "code",
      "source": [],
      "metadata": {
        "id": "ADM_DbFD-0yf"
      },
      "execution_count": null,
      "outputs": []
    }
  ]
}